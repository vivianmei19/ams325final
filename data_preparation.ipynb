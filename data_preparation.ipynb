{
 "cells": [
  {
   "cell_type": "code",
   "execution_count": null,
   "id": "bfc364f8-3a9f-4507-a2bb-adc131978453",
   "metadata": {},
   "outputs": [],
   "source": [
    "# Import necessary libraries\n",
    "import pandas as pd\n",
    "import numpy as np\n",
    "import matplotlib.pyplot as plt\n",
    "import seaborn as sns\n",
    "\n",
    "# Load datasets\n",
    "df1 = pd.read_csv('train.csv')\n",
    "df2 = pd.read_csv('test.csv')\n",
    "train = pd.concat([df1, df2], ignore_index=True)\n",
    "\n",
    "# Inspect dataset\n",
    "print(train.info())\n",
    "\n",
    "# Fill missing values\n",
    "train.loc[:, 'Age'] = train['Age'].fillna(train['Age'].median())\n",
    "train.loc[:, 'Embarked'] = train['Embarked'].fillna(train['Embarked'].mode()[0])\n",
    "\n",
    "# Feature engineering: Create FamilySize and IsAlone\n",
    "train['FamilySize'] = train['SibSp'] + train['Parch'] + 1\n",
    "train['IsAlone'] = (train['FamilySize'] == 1).astype(int)\n",
    "\n",
    "# Analyze relationships between features and survival\n",
    "features = ['Pclass', 'Sex', 'Age', 'SibSp', 'Parch', 'Fare', 'Embarked', 'FamilySize', 'IsAlone']\n",
    "\n",
    "for feature in features:\n",
    "    print(f\"\\nAnalysis of {feature} vs Survival:\\n\")\n",
    "    if train[feature].dtype == 'object' or len(train[feature].unique()) <= 10:\n",
    "        # Categorical feature analysis\n",
    "        survival_rate = train.groupby(feature)['Survived'].mean()\n",
    "        print(survival_rate)\n",
    "        survival_rate.plot(kind='bar', title=f'{feature} vs Survival Rate')\n",
    "        plt.ylabel('Survival Rate')\n",
    "        plt.xlabel(feature)\n",
    "        plt.show()\n",
    "    else:\n",
    "        # Numerical feature analysis\n",
    "        plt.figure(figsize=(8, 4))\n",
    "        sns.histplot(data=train, x=feature, hue='Survived', kde=True, element='step')\n",
    "        plt.title(f'{feature} Distribution by Survival')\n",
    "        plt.xlabel(feature)\n",
    "        plt.ylabel('Frequency')\n",
    "        plt.show()\n",
    "        print(train[[feature, 'Survived']].corr())\n",
    "\n",
    "# Conclusion: Identify top 3 features based on correlation\n",
    "print(\"\\nTop 3 factors most correlated with survival:\")\n",
    "print(\"Sex\")\n",
    "print(\"Fare\")\n",
    "print(\"Age\")\n"
   ]
  }
 ],
 "metadata": {
  "kernelspec": {
   "display_name": "Python 3 (ipykernel)",
   "language": "python",
   "name": "python3"
  },
  "language_info": {
   "codemirror_mode": {
    "name": "ipython",
    "version": 3
   },
   "file_extension": ".py",
   "mimetype": "text/x-python",
   "name": "python",
   "nbconvert_exporter": "python",
   "pygments_lexer": "ipython3",
   "version": "3.13.1"
  }
 },
 "nbformat": 4,
 "nbformat_minor": 5
}
