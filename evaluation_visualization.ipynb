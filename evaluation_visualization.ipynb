{
 "cells": [
  {
   "cell_type": "code",
   "execution_count": null,
   "id": "06f8f600-c484-42c4-ada2-31de45a708cb",
   "metadata": {},
   "outputs": [],
   "source": [
    "# Feature Importance (for Random Forest)\n",
    "feature_importances = pd.DataFrame({'Feature': features, 'Importance': rf.feature_importances_})\n",
    "feature_importances = feature_importances.sort_values(by='Importance', ascending=False)\n",
    "\n",
    "# Visualizations\n",
    "# Heatmap for feature correlation\n",
    "plt.figure(figsize=(10, 8))\n",
    "correlation = train[features + ['Survived']].corr()\n",
    "sns.heatmap(correlation, annot=True, cmap='coolwarm', fmt='.2f')\n",
    "plt.title('Feature Correlation Heatmap')\n",
    "plt.show()\n",
    "\n",
    "# Plot feature importance\n",
    "plt.figure(figsize=(10, 6))\n",
    "sns.barplot(x='Importance', y='Feature', data=feature_importances)\n",
    "plt.title('Feature Importance from Random Forest')\n",
    "plt.show()\n",
    "\n",
    "# Evaluation\n",
    "from sklearn.metrics import classification_report, confusion_matrix, accuracy_score\n",
    "print(\"Classification Report (Logistic Regression):\\n\")\n",
    "print(classification_report(y_test, y_pred_logreg))\n",
    "print(\"Classification Report (Random Forest):\\n\")\n",
    "print(classification_report(y_test, y_pred_rf))\n",
    "\n",
    "# Confusion Matrix\n",
    "plt.figure(figsize=(12, 6))\n",
    "plt.subplot(1, 2, 1)\n",
    "sns.heatmap(confusion_matrix(y_test, y_pred_logreg), annot=True, fmt='d', cmap='Blues')\n",
    "plt.title('Confusion Matrix (Logistic Regression)')\n",
    "\n",
    "plt.subplot(1, 2, 2)\n",
    "sns.heatmap(confusion_matrix(y_test, y_pred_rf), annot=True, fmt='d', cmap='Greens')\n",
    "plt.title('Confusion Matrix (Random Forest)')\n",
    "plt.show()\n",
    "\n",
    "# Summary\n",
    "print(\"\\nSummary:\")\n",
    "print(f\"Logistic Regression Accuracy: {logreg_acc:.2f}\")\n",
    "print(f\"Random Forest Accuracy: {rf_acc:.2f}\")\n",
    "print(\"Top 3 important features based on Random Forest:\")\n",
    "print(feature_importances.head(3))\n"
   ]
  }
 ],
 "metadata": {
  "kernelspec": {
   "display_name": "Python 3 (ipykernel)",
   "language": "python",
   "name": "python3"
  },
  "language_info": {
   "codemirror_mode": {
    "name": "ipython",
    "version": 3
   },
   "file_extension": ".py",
   "mimetype": "text/x-python",
   "name": "python",
   "nbconvert_exporter": "python",
   "pygments_lexer": "ipython3",
   "version": "3.13.1"
  }
 },
 "nbformat": 4,
 "nbformat_minor": 5
}
